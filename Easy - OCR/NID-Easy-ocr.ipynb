{
 "cells": [
  {
   "cell_type": "markdown",
   "metadata": {
    "id": "aBtZtPCgjE8V"
   },
   "source": [
    "# Open In Colab"
   ]
  },
  {
   "cell_type": "markdown",
   "metadata": {
    "id": "kjCixnKtjEsZ"
   },
   "source": [
    "\n",
    "\n",
    "[![Open In Colab](https://colab.research.google.com/assets/colab-badge.svg)](https://colab.research.google.com/drive/1Bg8MQnfRZpc2Wy52XEpqaBtsopmA0Hoc?authuser=1#scrollTo=gGnaQzjyhxhu)\n"
   ]
  },
  {
   "cell_type": "markdown",
   "metadata": {
    "id": "14gJOQFRtbmq"
   },
   "source": [
    "# Install & Import Module"
   ]
  },
  {
   "cell_type": "code",
   "execution_count": null,
   "metadata": {
    "colab": {
     "base_uri": "https://localhost:8080/"
    },
    "executionInfo": {
     "elapsed": 10516,
     "status": "ok",
     "timestamp": 1605373799226,
     "user": {
      "displayName": "jahid hasan",
      "photoUrl": "",
      "userId": "04583282639345967723"
     },
     "user_tz": -360
    },
    "id": "gGnaQzjyhxhu",
    "outputId": "bd203876-c882-4b1c-cc72-b3d9d84389b6"
   },
   "outputs": [
    {
     "name": "stdout",
     "output_type": "stream",
     "text": [
      "Collecting easyocr\n",
      "\u001b[?25l  Downloading https://files.pythonhosted.org/packages/34/49/c0bc96969a7f8167fb0478e50ad3f5ad2c6d93c99e20dc82875e92e0d783/easyocr-1.1.10-py3-none-any.whl (48.9MB)\n",
      "\u001b[K     |████████████████████████████████| 48.9MB 65kB/s \n",
      "\u001b[?25hRequirement already satisfied: torchvision>=0.5 in /usr/local/lib/python3.6/dist-packages (from easyocr) (0.8.1+cu101)\n",
      "Requirement already satisfied: numpy in /usr/local/lib/python3.6/dist-packages (from easyocr) (1.18.5)\n",
      "Requirement already satisfied: scipy in /usr/local/lib/python3.6/dist-packages (from easyocr) (1.4.1)\n",
      "Requirement already satisfied: opencv-python in /usr/local/lib/python3.6/dist-packages (from easyocr) (4.1.2.30)\n",
      "Requirement already satisfied: scikit-image in /usr/local/lib/python3.6/dist-packages (from easyocr) (0.16.2)\n",
      "Collecting python-bidi\n",
      "  Downloading https://files.pythonhosted.org/packages/33/b0/f942d146a2f457233baaafd6bdf624eba8e0f665045b4abd69d1b62d097d/python_bidi-0.4.2-py2.py3-none-any.whl\n",
      "Requirement already satisfied: Pillow in /usr/local/lib/python3.6/dist-packages (from easyocr) (7.0.0)\n",
      "Requirement already satisfied: torch in /usr/local/lib/python3.6/dist-packages (from easyocr) (1.7.0+cu101)\n",
      "Requirement already satisfied: imageio>=2.3.0 in /usr/local/lib/python3.6/dist-packages (from scikit-image->easyocr) (2.4.1)\n",
      "Requirement already satisfied: matplotlib!=3.0.0,>=2.0.0 in /usr/local/lib/python3.6/dist-packages (from scikit-image->easyocr) (3.2.2)\n",
      "Requirement already satisfied: networkx>=2.0 in /usr/local/lib/python3.6/dist-packages (from scikit-image->easyocr) (2.5)\n",
      "Requirement already satisfied: PyWavelets>=0.4.0 in /usr/local/lib/python3.6/dist-packages (from scikit-image->easyocr) (1.1.1)\n",
      "Requirement already satisfied: six in /usr/local/lib/python3.6/dist-packages (from python-bidi->easyocr) (1.15.0)\n",
      "Requirement already satisfied: future in /usr/local/lib/python3.6/dist-packages (from torch->easyocr) (0.16.0)\n",
      "Requirement already satisfied: typing-extensions in /usr/local/lib/python3.6/dist-packages (from torch->easyocr) (3.7.4.3)\n",
      "Requirement already satisfied: dataclasses in /usr/local/lib/python3.6/dist-packages (from torch->easyocr) (0.7)\n",
      "Requirement already satisfied: cycler>=0.10 in /usr/local/lib/python3.6/dist-packages (from matplotlib!=3.0.0,>=2.0.0->scikit-image->easyocr) (0.10.0)\n",
      "Requirement already satisfied: kiwisolver>=1.0.1 in /usr/local/lib/python3.6/dist-packages (from matplotlib!=3.0.0,>=2.0.0->scikit-image->easyocr) (1.3.1)\n",
      "Requirement already satisfied: python-dateutil>=2.1 in /usr/local/lib/python3.6/dist-packages (from matplotlib!=3.0.0,>=2.0.0->scikit-image->easyocr) (2.8.1)\n",
      "Requirement already satisfied: pyparsing!=2.0.4,!=2.1.2,!=2.1.6,>=2.0.1 in /usr/local/lib/python3.6/dist-packages (from matplotlib!=3.0.0,>=2.0.0->scikit-image->easyocr) (2.4.7)\n",
      "Requirement already satisfied: decorator>=4.3.0 in /usr/local/lib/python3.6/dist-packages (from networkx>=2.0->scikit-image->easyocr) (4.4.2)\n",
      "Installing collected packages: python-bidi, easyocr\n",
      "Successfully installed easyocr-1.1.10 python-bidi-0.4.2\n"
     ]
    }
   ],
   "source": [
    "# install easy-ocr module\n",
    "! pip install easyocr"
   ]
  },
  {
   "cell_type": "code",
   "execution_count": null,
   "metadata": {
    "colab": {
     "base_uri": "https://localhost:8080/"
    },
    "executionInfo": {
     "elapsed": 8125,
     "status": "ok",
     "timestamp": 1605373818643,
     "user": {
      "displayName": "jahid hasan",
      "photoUrl": "",
      "userId": "04583282639345967723"
     },
     "user_tz": -360
    },
    "id": "WOxu3m1aq8gC",
    "outputId": "6a4fa4a8-0845-4479-98f5-4cb1c3ec7ff6"
   },
   "outputs": [
    {
     "name": "stdout",
     "output_type": "stream",
     "text": [
      "[nltk_data] Downloading package punkt to /root/nltk_data...\n",
      "[nltk_data]   Unzipping tokenizers/punkt.zip.\n"
     ]
    },
    {
     "data": {
      "text/plain": [
       "True"
      ]
     },
     "execution_count": 2,
     "metadata": {
      "tags": []
     },
     "output_type": "execute_result"
    }
   ],
   "source": [
    "# import required module\n",
    "import matplotlib.pyplot as plt\n",
    "import cv2, os\n",
    "import easyocr\n",
    "from pylab import rcParams\n",
    "from IPython.display import Image\n",
    "import nltk\n",
    "import matplotlib.pyplot as plt \n",
    "import dlib\n",
    "import re\n",
    "\n",
    "\n",
    "\n",
    "%matplotlib inline\n",
    "rcParams['figure.figsize'] = 8, 16\n",
    "nltk.download('punkt')"
   ]
  },
  {
   "cell_type": "code",
   "execution_count": null,
   "metadata": {
    "colab": {
     "base_uri": "https://localhost:8080/"
    },
    "executionInfo": {
     "elapsed": 28020,
     "status": "ok",
     "timestamp": 1605373896869,
     "user": {
      "displayName": "jahid hasan",
      "photoUrl": "",
      "userId": "04583282639345967723"
     },
     "user_tz": -360
    },
    "id": "K39DhEUk_RqU",
    "outputId": "f7fbb49e-038d-486f-b476-2c7600b6df54"
   },
   "outputs": [
    {
     "name": "stderr",
     "output_type": "stream",
     "text": [
      "Downloading detection model, please wait. This may take several minutes depending upon your network connection.\n"
     ]
    },
    {
     "name": "stdout",
     "output_type": "stream",
     "text": []
    },
    {
     "name": "stderr",
     "output_type": "stream",
     "text": [
      "Downloading recognition model, please wait. This may take several minutes depending upon your network connection.\n"
     ]
    },
    {
     "name": "stdout",
     "output_type": "stream",
     "text": []
    }
   ],
   "source": [
    "# instance the easy ocr \n",
    "# this ocr engine used for english text identification from image\n",
    "en_reader = easyocr.Reader(['en'])"
   ]
  },
  {
   "cell_type": "code",
   "execution_count": null,
   "metadata": {
    "id": "-92u0pxuay-h"
   },
   "outputs": [],
   "source": []
  },
  {
   "cell_type": "markdown",
   "metadata": {
    "id": "R3rmkHmftWFX"
   },
   "source": [
    "# Download Required File"
   ]
  },
  {
   "cell_type": "code",
   "execution_count": null,
   "metadata": {
    "colab": {
     "base_uri": "https://localhost:8080/"
    },
    "executionInfo": {
     "elapsed": 2441,
     "status": "ok",
     "timestamp": 1605374826328,
     "user": {
      "displayName": "jahid hasan",
      "photoUrl": "",
      "userId": "04583282639345967723"
     },
     "user_tz": -360
    },
    "id": "15zHapqw_8zn",
    "outputId": "3e73f2c0-e8ea-4b94-8545-7e3a72df8168"
   },
   "outputs": [
    {
     "name": "stdout",
     "output_type": "stream",
     "text": [
      "--2020-11-14 17:27:04--  https://raw.githubusercontent.com/AKSHAYUBHAT/TensorFace/master/openface/models/dlib/shape_predictor_68_face_landmarks.dat\n",
      "Resolving raw.githubusercontent.com (raw.githubusercontent.com)... 151.101.0.133, 151.101.64.133, 151.101.128.133, ...\n",
      "Connecting to raw.githubusercontent.com (raw.githubusercontent.com)|151.101.0.133|:443... connected.\n",
      "HTTP request sent, awaiting response... 200 OK\n",
      "Length: 99693937 (95M) [application/octet-stream]\n",
      "Saving to: ‘shape_predictor_68_face_landmarks.dat’\n",
      "\n",
      "shape_predictor_68_ 100%[===================>]  95.08M   133MB/s    in 0.7s    \n",
      "\n",
      "2020-11-14 17:27:05 (133 MB/s) - ‘shape_predictor_68_face_landmarks.dat’ saved [99693937/99693937]\n",
      "\n"
     ]
    }
   ],
   "source": [
    "# download file from github link\n",
    "# this file used for detection of facial landmarks detection as well face recognition\n",
    "! wget https://raw.githubusercontent.com/AKSHAYUBHAT/TensorFace/master/openface/models/dlib/shape_predictor_68_face_landmarks.dat"
   ]
  },
  {
   "cell_type": "markdown",
   "metadata": {
    "id": "2CSw642QtamP"
   },
   "source": []
  },
  {
   "cell_type": "code",
   "execution_count": null,
   "metadata": {
    "id": "9jjE7q6J2qE9"
   },
   "outputs": [],
   "source": []
  },
  {
   "cell_type": "markdown",
   "metadata": {
    "id": "elILL7nOtn1R"
   },
   "source": [
    "# Dataset Making - Implemenation"
   ]
  },
  {
   "cell_type": "code",
   "execution_count": null,
   "metadata": {
    "id": "WjVNFRVZ8SZV"
   },
   "outputs": [],
   "source": [
    "# instantiate dlib for face frontal detection land marks detection\n",
    "detector = dlib.get_frontal_face_detector()\n",
    "predictor = dlib.shape_predictor(\"/content/shape_predictor_68_face_landmarks.dat\")\n",
    "\n",
    "def make_dataset(img_path):\n",
    "\n",
    "\n",
    "    # load image and resize for further used\n",
    "    filename = img_path\n",
    "    img = cv2.imread(cv2.samples.findFile(filename)) # read image   \n",
    "    img = cv2.resize(img, (640, 480))  # resize image\n",
    "\n",
    "    imgOriginal = img.copy() # make a copy the original image\n",
    "    imgGray = cv2.cvtColor(img, cv2.COLOR_BGR2GRAY) # convert image into grayscale\n",
    "\n",
    "    # detect faces from image and its corresponding x-axis and y-axis location\n",
    "    # cropped face from image according to x and y location\n",
    "    faces = detector(imgOriginal)  # detect all faces region \n",
    "    for face in faces:\n",
    "        x1,y1 = face.left(),face.top() \n",
    "        x2,y2 = face.right(),face.bottom()\n",
    "\n",
    "        # cropped image\n",
    "        cropped = imgOriginal[y1-25:y2+150 , x2+10:x2 + 320]\n",
    "\n",
    "        # saved the croped image\n",
    "        cv2.imwrite(\"NID_cropped.png\", cropped)\n"
   ]
  },
  {
   "cell_type": "code",
   "execution_count": null,
   "metadata": {
    "id": "myAE0Q8v8SMj"
   },
   "outputs": [],
   "source": []
  },
  {
   "cell_type": "code",
   "execution_count": null,
   "metadata": {
    "id": "VA1AKrUc_Wzf"
   },
   "outputs": [],
   "source": []
  },
  {
   "cell_type": "markdown",
   "metadata": {
    "id": "PKmSie-VszDg"
   },
   "source": [
    "# Easy-OCR Implementation"
   ]
  },
  {
   "cell_type": "markdown",
   "metadata": {
    "id": "KbFTvo-Ys3nb"
   },
   "source": [
    "### Requeired function - Easy OCR"
   ]
  },
  {
   "cell_type": "code",
   "execution_count": null,
   "metadata": {
    "id": "KFceePJoh8tW"
   },
   "outputs": [],
   "source": [
    "# Month name \n",
    "MONTH_NAME = ['Jan', 'Feb', 'Apr' 'Mar', 'May', 'Jun', 'Jul', 'Aug', 'Sept', 'Oct', 'Nov', 'Dec']\n",
    "\n",
    "\n",
    "# this function used to extract age from text\n",
    "def EASY_month_matching(sent):\n",
    "    sent =  sent.strip()\n",
    "    word_token = nltk.tokenize.word_tokenize(sent)\n",
    "    for i, word in enumerate(word_token):\n",
    "        if word in MONTH_NAME:\n",
    "            date_c = word_token[i-1]\n",
    "            s_d = re.search(r\"\\d+(\\.\\d+)?\", date_c)\n",
    "            date = s_d.group(0)\n",
    "\n",
    "            month = word_token[i]\n",
    "\n",
    "\n",
    "            year = word_token[i+1]\n",
    "            \n",
    "\n",
    "            b_date = date + \" \" + month + \" \" + year\n",
    "            # print(b_date)\n",
    "            return b_date\n",
    "\n",
    "# this function used to extract NID number from text\n",
    "def EASY_NID_matching(sent):\n",
    "    sent =  sent.strip()\n",
    "    word_token = nltk.tokenize.word_tokenize(sent)\n",
    "    for i, word in enumerate(word_token):\n",
    "        try:\n",
    "            if word_token[i].isdigit() and word_token[i+1].isdigit() and word_token[i+2].isdigit():\n",
    "                if len(word_token[i]) >= 3 and len(word_token[i+1]) >= 3 and len(word_token[i+1]) >= 3 :\n",
    "                    NID_no = word_token[i] +\" \" + word_token[i+1] +\" \" +  word_token[i+2]\n",
    "                    return NID_no\n",
    "        except:\n",
    "            pass\n"
   ]
  },
  {
   "cell_type": "markdown",
   "metadata": {
    "id": "lxUlgEwTtB_V"
   },
   "source": [
    "### Info extraction functon  - Easy OCR"
   ]
  },
  {
   "cell_type": "code",
   "execution_count": null,
   "metadata": {
    "id": "U6E3k86QH_Zh"
   },
   "outputs": [],
   "source": [
    "# This function used to extract information: Name, Age, NID number\n",
    "# as well as all text detect by OCR engine\n",
    "def Extract_NID_INFO_EASY_OCR(img_path):\n",
    "    \n",
    "    # plot the image\n",
    "    img = plt.imread(img_path)\n",
    "    plt.imshow(img)\n",
    "\n",
    "    name = 'Not Found'\n",
    "    birthday = 'Not Found'\n",
    "    NID_number = 'Not Found'\n",
    "    info_dict = dict()\n",
    "    en_output = en_reader.readtext(img_path)\n",
    "    for out in en_output:\n",
    "        sent = out[1]\n",
    "        # extract name\n",
    "        res = [char for char in sent if char.isupper()]\n",
    "        if len(res) > 6:\n",
    "            name = sent\n",
    "        \n",
    "        b_date = EASY_month_matching(sent)   # extract age\n",
    "        NID_no = EASY_NID_matching(sent)  # extract NID\n",
    "        if b_date != None:\n",
    "            birthday = b_date\n",
    "        if NID_no != None:\n",
    "            NID_number = NID_no\n",
    "            \n",
    "\n",
    "    # store information to a dictionary\n",
    "    info_dict[\"Name\"] = name\n",
    "    info_dict[\"Date of Birth\"] = birthday\n",
    "    info_dict[\"NID_no\"] = NID_number\n",
    "\n",
    "    return info_dict"
   ]
  },
  {
   "cell_type": "markdown",
   "metadata": {
    "id": "uV5e4iFjp0HS"
   },
   "source": [
    "\n",
    "\n",
    "\n",
    "# Extract Dataset\n",
    "\n",
    "\n"
   ]
  },
  {
   "cell_type": "code",
   "execution_count": null,
   "metadata": {
    "id": "xeIFHSo4rgb3"
   },
   "outputs": [],
   "source": [
    "# make dataset for OCR\n",
    "make_dataset('/content/111.png')"
   ]
  },
  {
   "cell_type": "markdown",
   "metadata": {
    "id": "pKDO-wdrp8fc"
   },
   "source": [
    "### EASY OCR (OUTPUT)"
   ]
  },
  {
   "cell_type": "code",
   "execution_count": 1,
   "metadata": {
    "colab": {
     "base_uri": "https://localhost:8080/",
     "height": 500
    },
    "executionInfo": {
     "elapsed": 2743,
     "status": "ok",
     "timestamp": 1605374904985,
     "user": {
      "displayName": "jahid hasan",
      "photoUrl": "",
      "userId": "04583282639345967723"
     },
     "user_tz": -360
    },
    "id": "bAYO77fLpzO_",
    "outputId": "7eb92bce-a258-4045-c7f3-69454d188d1b"
   },
   "outputs": [],
   "source": [
    "#extract information: Name, Age, NID number\n",
    "info_easy_ocr = Extract_NID_INFO_EASY_OCR('/content/NID_cropped.png')\n",
    "print(info_easy_ocr)"
   ]
  },
  {
   "cell_type": "code",
   "execution_count": null,
   "metadata": {
    "id": "_asVy4sKqDzr"
   },
   "outputs": [],
   "source": []
  },
  {
   "cell_type": "code",
   "execution_count": null,
   "metadata": {
    "id": "lZtFDaeqBwCH"
   },
   "outputs": [],
   "source": []
  },
  {
   "cell_type": "code",
   "execution_count": null,
   "metadata": {
    "id": "q4MiNCQEBv4K"
   },
   "outputs": [],
   "source": []
  }
 ],
 "metadata": {
  "accelerator": "GPU",
  "colab": {
   "collapsed_sections": [],
   "name": "NID-Easy-ocr.ipynb",
   "provenance": [],
   "toc_visible": true
  },
  "kernelspec": {
   "display_name": "Python 3",
   "language": "python",
   "name": "python3"
  },
  "language_info": {
   "codemirror_mode": {
    "name": "ipython",
    "version": 3
   },
   "file_extension": ".py",
   "mimetype": "text/x-python",
   "name": "python",
   "nbconvert_exporter": "python",
   "pygments_lexer": "ipython3",
   "version": "3.8.5"
  }
 },
 "nbformat": 4,
 "nbformat_minor": 1
}
