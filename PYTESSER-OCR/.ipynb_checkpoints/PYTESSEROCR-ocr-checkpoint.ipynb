{
 "cells": [
  {
   "cell_type": "markdown",
   "metadata": {
    "id": "ZYau8hlZjiQZ"
   },
   "source": [
    "# Open In Colab"
   ]
  },
  {
   "cell_type": "markdown",
   "metadata": {
    "id": "TG7zqZtBjqcl"
   },
   "source": [
    "\n",
    "\n",
    "[![Open In Colab](https://colab.research.google.com/assets/colab-badge.svg)](https://colab.research.google.com/github/HelloJahid/Project-NID/blob/main/PYTESSER-OCR/PYTESSEROCR-ocr.ipynb)\n"
   ]
  },
  {
   "cell_type": "markdown",
   "metadata": {
    "id": "14gJOQFRtbmq"
   },
   "source": [
    "# Install & Import Module"
   ]
  },
  {
   "cell_type": "code",
   "execution_count": null,
   "metadata": {
    "colab": {
     "base_uri": "https://localhost:8080/"
    },
    "executionInfo": {
     "elapsed": 10636,
     "status": "ok",
     "timestamp": 1605374974071,
     "user": {
      "displayName": "jahid hasan",
      "photoUrl": "",
      "userId": "04583282639345967723"
     },
     "user_tz": -360
    },
    "id": "gGnaQzjyhxhu",
    "outputId": "2f0f026f-695e-4843-e4b2-269f10163e7f"
   },
   "outputs": [
    {
     "name": "stdout",
     "output_type": "stream",
     "text": [
      "Collecting pytesseract\n",
      "  Downloading https://files.pythonhosted.org/packages/17/4b/4dbd55388225bb6cd243d21f70e77cb3ce061e241257485936324b8e920f/pytesseract-0.3.6.tar.gz\n",
      "Requirement already satisfied: Pillow in /usr/local/lib/python3.6/dist-packages (from pytesseract) (7.0.0)\n",
      "Building wheels for collected packages: pytesseract\n",
      "  Building wheel for pytesseract (setup.py) ... \u001b[?25l\u001b[?25hdone\n",
      "  Created wheel for pytesseract: filename=pytesseract-0.3.6-py2.py3-none-any.whl size=13629 sha256=a6d15c1cfbe3fbc9198ad5d63e5155cdddd6e4932bd28e897d11b298b6e75495\n",
      "  Stored in directory: /root/.cache/pip/wheels/ee/71/72/b98430261d849ae631e283dfc7ccb456a3fb2ed2205714b63f\n",
      "Successfully built pytesseract\n",
      "Installing collected packages: pytesseract\n",
      "Successfully installed pytesseract-0.3.6\n",
      "Reading package lists... Done\n",
      "Building dependency tree       \n",
      "Reading state information... Done\n",
      "The following additional packages will be installed:\n",
      "  tesseract-ocr-eng tesseract-ocr-osd\n",
      "The following NEW packages will be installed:\n",
      "  tesseract-ocr tesseract-ocr-eng tesseract-ocr-osd\n",
      "0 upgraded, 3 newly installed, 0 to remove and 12 not upgraded.\n",
      "Need to get 4,795 kB of archives.\n",
      "After this operation, 15.8 MB of additional disk space will be used.\n",
      "Get:1 http://archive.ubuntu.com/ubuntu bionic/universe amd64 tesseract-ocr-eng all 4.00~git24-0e00fe6-1.2 [1,588 kB]\n",
      "Get:2 http://archive.ubuntu.com/ubuntu bionic/universe amd64 tesseract-ocr-osd all 4.00~git24-0e00fe6-1.2 [2,989 kB]\n",
      "Get:3 http://archive.ubuntu.com/ubuntu bionic/universe amd64 tesseract-ocr amd64 4.00~git2288-10f4998a-2 [218 kB]\n",
      "Fetched 4,795 kB in 1s (5,351 kB/s)\n",
      "debconf: unable to initialize frontend: Dialog\n",
      "debconf: (No usable dialog-like program is installed, so the dialog based frontend cannot be used. at /usr/share/perl5/Debconf/FrontEnd/Dialog.pm line 76, <> line 3.)\n",
      "debconf: falling back to frontend: Readline\n",
      "debconf: unable to initialize frontend: Readline\n",
      "debconf: (This frontend requires a controlling tty.)\n",
      "debconf: falling back to frontend: Teletype\n",
      "dpkg-preconfigure: unable to re-open stdin: \n",
      "Selecting previously unselected package tesseract-ocr-eng.\n",
      "(Reading database ... 144786 files and directories currently installed.)\n",
      "Preparing to unpack .../tesseract-ocr-eng_4.00~git24-0e00fe6-1.2_all.deb ...\n",
      "Unpacking tesseract-ocr-eng (4.00~git24-0e00fe6-1.2) ...\n",
      "Selecting previously unselected package tesseract-ocr-osd.\n",
      "Preparing to unpack .../tesseract-ocr-osd_4.00~git24-0e00fe6-1.2_all.deb ...\n",
      "Unpacking tesseract-ocr-osd (4.00~git24-0e00fe6-1.2) ...\n",
      "Selecting previously unselected package tesseract-ocr.\n",
      "Preparing to unpack .../tesseract-ocr_4.00~git2288-10f4998a-2_amd64.deb ...\n",
      "Unpacking tesseract-ocr (4.00~git2288-10f4998a-2) ...\n",
      "Setting up tesseract-ocr-osd (4.00~git24-0e00fe6-1.2) ...\n",
      "Setting up tesseract-ocr-eng (4.00~git24-0e00fe6-1.2) ...\n",
      "Setting up tesseract-ocr (4.00~git2288-10f4998a-2) ...\n",
      "Processing triggers for man-db (2.8.3-2ubuntu0.1) ...\n"
     ]
    }
   ],
   "source": [
    "# install easy-ocr module\n",
    "\n",
    "!pip install pytesseract\n",
    "!sudo apt install tesseract-ocr"
   ]
  },
  {
   "cell_type": "code",
   "execution_count": null,
   "metadata": {
    "colab": {
     "base_uri": "https://localhost:8080/"
    },
    "executionInfo": {
     "elapsed": 4096,
     "status": "ok",
     "timestamp": 1605375006840,
     "user": {
      "displayName": "jahid hasan",
      "photoUrl": "",
      "userId": "04583282639345967723"
     },
     "user_tz": -360
    },
    "id": "WOxu3m1aq8gC",
    "outputId": "45c249ad-ea6b-4fea-dfc1-6a4a9256a251"
   },
   "outputs": [
    {
     "name": "stdout",
     "output_type": "stream",
     "text": [
      "[nltk_data] Downloading package punkt to /root/nltk_data...\n",
      "[nltk_data]   Unzipping tokenizers/punkt.zip.\n"
     ]
    },
    {
     "data": {
      "text/plain": [
       "True"
      ]
     },
     "execution_count": 2,
     "metadata": {
      "tags": []
     },
     "output_type": "execute_result"
    }
   ],
   "source": [
    "# import required module\n",
    "import matplotlib.pyplot as plt\n",
    "import cv2, os\n",
    "from pylab import rcParams\n",
    "from IPython.display import Image\n",
    "import nltk\n",
    "import matplotlib.pyplot as plt \n",
    "import pytesseract\n",
    "\n",
    "\n",
    "import cv2\n",
    "import numpy as np\n",
    "import dlib\n",
    "import glob\n",
    "\n",
    "%matplotlib inline\n",
    "rcParams['figure.figsize'] = 8, 16\n",
    "nltk.download('punkt')"
   ]
  },
  {
   "cell_type": "code",
   "execution_count": null,
   "metadata": {
    "id": "-92u0pxuay-h"
   },
   "outputs": [],
   "source": []
  },
  {
   "cell_type": "markdown",
   "metadata": {
    "id": "R3rmkHmftWFX"
   },
   "source": [
    "# Download Required File"
   ]
  },
  {
   "cell_type": "code",
   "execution_count": null,
   "metadata": {
    "colab": {
     "base_uri": "https://localhost:8080/"
    },
    "executionInfo": {
     "elapsed": 2010,
     "status": "ok",
     "timestamp": 1605375031586,
     "user": {
      "displayName": "jahid hasan",
      "photoUrl": "",
      "userId": "04583282639345967723"
     },
     "user_tz": -360
    },
    "id": "15zHapqw_8zn",
    "outputId": "21d1d006-91af-427f-8b37-4d7aaa639091"
   },
   "outputs": [
    {
     "name": "stdout",
     "output_type": "stream",
     "text": [
      "--2020-11-14 17:30:29--  https://raw.githubusercontent.com/AKSHAYUBHAT/TensorFace/master/openface/models/dlib/shape_predictor_68_face_landmarks.dat\n",
      "Resolving raw.githubusercontent.com (raw.githubusercontent.com)... 151.101.0.133, 151.101.64.133, 151.101.128.133, ...\n",
      "Connecting to raw.githubusercontent.com (raw.githubusercontent.com)|151.101.0.133|:443... connected.\n",
      "HTTP request sent, awaiting response... 200 OK\n",
      "Length: 99693937 (95M) [application/octet-stream]\n",
      "Saving to: ‘shape_predictor_68_face_landmarks.dat’\n",
      "\n",
      "shape_predictor_68_ 100%[===================>]  95.08M   281MB/s    in 0.3s    \n",
      "\n",
      "2020-11-14 17:30:30 (281 MB/s) - ‘shape_predictor_68_face_landmarks.dat’ saved [99693937/99693937]\n",
      "\n"
     ]
    }
   ],
   "source": [
    "# download file from github link\n",
    "# this file used for detection of facial landmarks detection as well face recognition\n",
    "\n",
    "! wget https://raw.githubusercontent.com/AKSHAYUBHAT/TensorFace/master/openface/models/dlib/shape_predictor_68_face_landmarks.dat"
   ]
  },
  {
   "cell_type": "markdown",
   "metadata": {
    "id": "2CSw642QtamP"
   },
   "source": []
  },
  {
   "cell_type": "code",
   "execution_count": null,
   "metadata": {
    "id": "9jjE7q6J2qE9"
   },
   "outputs": [],
   "source": []
  },
  {
   "cell_type": "markdown",
   "metadata": {
    "id": "IarV7JZktQpD"
   },
   "source": [
    "# Making Folder"
   ]
  },
  {
   "cell_type": "code",
   "execution_count": null,
   "metadata": {
    "id": "yqs-2P-E8GUf"
   },
   "outputs": [],
   "source": [
    "# make a folder to store split text image from main image\n",
    "if os.path.exists('/content/manual-cropedd'):\n",
    "    pass\n",
    "else:\n",
    "    os.mkdir('/content/manual-cropedd')\n"
   ]
  },
  {
   "cell_type": "markdown",
   "metadata": {
    "id": "elILL7nOtn1R"
   },
   "source": [
    "# Dataset Making - Implemenation"
   ]
  },
  {
   "cell_type": "code",
   "execution_count": null,
   "metadata": {
    "id": "WjVNFRVZ8SZV"
   },
   "outputs": [],
   "source": [
    "# instantiate dlib for face frontal detection land marks detection\n",
    "detector = dlib.get_frontal_face_detector()\n",
    "predictor = dlib.shape_predictor(\"/content/shape_predictor_68_face_landmarks.dat\")\n",
    "\n",
    "def make_dataset(img_path, isDelete=True):\n",
    "\n",
    "    # delete the pre-load images from this folder\n",
    "    if isDelete:\n",
    "        files = glob.glob('/content/manual-cropedd/*')\n",
    "        for f in files:\n",
    "            os.remove(f)\n",
    "\n",
    "\n",
    "    # load image and resize for further used\n",
    "    filename = img_path\n",
    "    img = cv2.imread(cv2.samples.findFile(filename)) # read image   \n",
    "    img = cv2.resize(img, (640, 480))  # resize image\n",
    "\n",
    "    imgOriginal = img.copy() # make a copy the original image\n",
    "    imgGray = cv2.cvtColor(img, cv2.COLOR_BGR2GRAY) # convert image into grayscale\n",
    "\n",
    "    # detect faces from image and its corresponding x-axis and y-axis location\n",
    "    # cropped face from image according to x and y location\n",
    "    faces = detector(imgOriginal)  # detect all faces region \n",
    "    for face in faces:\n",
    "        x1,y1 = face.left(),face.top() \n",
    "        x2,y2 = face.right(),face.bottom()\n",
    "\n",
    "        # cropped image\n",
    "        cropped = imgOriginal[y1-25:y2+150 , x2+10:x2 + 320]\n",
    "\n",
    "        # saved the croped image\n",
    "        cv2.imwrite(\"NID_cropped.png\", cropped)\n",
    "    \n",
    "        # Cropped ony text region using sliding window method\n",
    "        img = cropped\n",
    "        x_val, y_val, c = img.shape\n",
    "\n",
    "        x , y = 0, 0\n",
    "        for i in range(y_val):\n",
    "            x = 0\n",
    "            y = y + 10\n",
    "            w, h = y_val, 60\n",
    "\n",
    "\n",
    "            if y+10 > y_val:\n",
    "                break\n",
    "\n",
    "            try:\n",
    "                crop_img = img[y:y+h, x:x+w]\n",
    "                img_name = \"/content/manual-cropedd/\"+str(i)+\".jpg\"\n",
    "                cv2.imwrite(img_name, crop_img)\n",
    "            except:\n",
    "                pass\n",
    "\n"
   ]
  },
  {
   "cell_type": "code",
   "execution_count": null,
   "metadata": {
    "id": "myAE0Q8v8SMj"
   },
   "outputs": [],
   "source": []
  },
  {
   "cell_type": "code",
   "execution_count": null,
   "metadata": {
    "id": "VA1AKrUc_Wzf"
   },
   "outputs": [],
   "source": []
  },
  {
   "cell_type": "markdown",
   "metadata": {
    "id": "aRN2vYU2spZ5"
   },
   "source": [
    "# PYTESSEROCR Implementation"
   ]
  },
  {
   "cell_type": "code",
   "execution_count": null,
   "metadata": {
    "id": "K6oS6GG0Gt1g"
   },
   "outputs": [],
   "source": [
    "# month name\n",
    "MONTH_NAME = ['Jan', 'Feb', 'Apr' 'Mar', 'May', 'Jun', 'Jul', 'Aug', 'Sept', 'Oct', 'Nov', 'Dec']\n",
    "\n",
    "\n",
    "# this function used to extract age from text\n",
    "def PYTESS_OCR_month_matching(sent):\n",
    "    sent =  sent.strip()\n",
    "    word_token = nltk.tokenize.word_tokenize(sent)\n",
    "    for i, word in enumerate(word_token):\n",
    "        if word in MONTH_NAME:\n",
    "            date = word_token[i-1]\n",
    "\n",
    "            month = word_token[i]\n",
    "\n",
    "\n",
    "            year = word_token[i+1]\n",
    "            \n",
    "\n",
    "            b_date = date + \" \" + month + \" \" + year\n",
    "            # print(b_date)\n",
    "            return b_date\n",
    "\n",
    "#  this function used to extract NID no from text\n",
    "def PYTESS_extract_digit(sent):\n",
    "    nmb_list = [s for s in sent.split() if s.isdigit()]\n",
    "    nmb = \"\".join(nmb_list)\n",
    "    nmb_list, nmb, len(nmb)\n",
    "\n",
    "    if len(nmb) > 8:\n",
    "        return nmb\n",
    "    else:\n",
    "        return None\n",
    "\n",
    "#  this function used to extract Name from text\n",
    "def PYTESS_name_check(sent):\n",
    "    sent =  sent.strip()\n",
    "    upper_res = [char for char in sent if char.isupper()]\n",
    "    if len(upper_res) > 8 and sent[0].isupper() and sent[1].isupper() and sent[-2].isupper() and sent[-1].isupper():\n",
    "        #print(\"*********************************************************\")\n",
    "        return \"ok\"\n",
    "    else:\n",
    "        return \"notok\"\n",
    "\n",
    "\n",
    "# This function used to extract information: Name, Age, NID number\n",
    "# as well as all text detect by OCR engine\n",
    "def Extract_NID_INFO_PYTESS_OCR():\n",
    "    IMG_DIR = '/content/manual-cropedd'\n",
    "\n",
    "    sent_list = list()\n",
    "\n",
    "    name =\"Not Found\"\n",
    "    age =\"Not Found\"\n",
    "    NID_NUM =\"Not Found\"\n",
    "    for img_name in os.listdir(IMG_DIR):\n",
    "        img_path = IMG_DIR + \"/\" +img_name\n",
    "        img = cv2.imread(img_path)\n",
    "\n",
    "        rgb = cv2.cvtColor(img, cv2.COLOR_BGR2RGB)\n",
    "        sent = pytesseract.image_to_string(rgb)\n",
    "        \n",
    "        name_status = PYTESS_name_check(sent)\n",
    "            \n",
    "        b_date = PYTESS_OCR_month_matching(sent)\n",
    "        NID_no = PYTESS_extract_digit(sent)\n",
    "        \n",
    "        #print(\"=============> \", sent)\n",
    "        if name_status == \"ok\":\n",
    "            name = sent\n",
    "            # print(sent)\n",
    "        if b_date != None:\n",
    "            age = b_date\n",
    "            # print(b_date)\n",
    "        if NID_no != None and len(NID_no) == 10:\n",
    "            NID_NUM = NID_no\n",
    "            # print(NID_NUM)\n",
    "        \n",
    "        sent_list.append(sent)\n",
    "        \n",
    "    info_dict = dict()\n",
    "    info_dict[\"Name\"] = name.strip()\n",
    "    info_dict[\"Date of Birth\"] = age\n",
    "    info_dict[\"NID_no\"] = NID_NUM\n",
    "\n",
    "    return info_dict, sent_list"
   ]
  },
  {
   "cell_type": "code",
   "execution_count": null,
   "metadata": {
    "id": "t1rl8gXUGtmt"
   },
   "outputs": [],
   "source": []
  },
  {
   "cell_type": "code",
   "execution_count": null,
   "metadata": {
    "id": "CgeEkbB9qh11"
   },
   "outputs": [],
   "source": []
  },
  {
   "cell_type": "markdown",
   "metadata": {
    "id": "uV5e4iFjp0HS"
   },
   "source": [
    "\n",
    "\n",
    "\n",
    "# Making Dataset\n",
    "\n",
    "\n"
   ]
  },
  {
   "cell_type": "code",
   "execution_count": null,
   "metadata": {
    "id": "xeIFHSo4rgb3"
   },
   "outputs": [],
   "source": [
    "# make dataset for OCR\n",
    "make_dataset('/content/111.png')"
   ]
  },
  {
   "cell_type": "code",
   "execution_count": null,
   "metadata": {
    "id": "_asVy4sKqDzr"
   },
   "outputs": [],
   "source": []
  },
  {
   "cell_type": "markdown",
   "metadata": {
    "id": "gay8uVkiqEfi"
   },
   "source": [
    "### Tesseract-OCR (OUTPUT)"
   ]
  },
  {
   "cell_type": "code",
   "execution_count": 1,
   "metadata": {
    "colab": {
     "base_uri": "https://localhost:8080/"
    },
    "executionInfo": {
     "elapsed": 5673,
     "status": "ok",
     "timestamp": 1605373482047,
     "user": {
      "displayName": "jahid hasan",
      "photoUrl": "",
      "userId": "04583282639345967723"
     },
     "user_tz": -360
    },
    "id": "I8AaVEuIyIWd",
    "outputId": "1fd26881-3fe1-4cf7-e396-bc8266f093ab"
   },
   "outputs": [],
   "source": [
    "#print information: Name, Age, NID number\n",
    "info_east_ocr, all_info = Extract_NID_INFO_PYTESS_OCR()\n",
    "print(\"*\"*50)\n",
    "print(info_east_ocr)\n",
    "print(\"*\"*50)\n",
    "\n",
    "\n",
    "# print all text detected by OCR engine\n",
    "print(\"\\n\\n\")\n",
    "print(\"*\"*50)\n",
    "print(\"Extracted text by OCR Engine(below): \")\n",
    "for sent in all_info:\n",
    "    print(sent.strip())\n",
    "print(\"*\"*50)"
   ]
  },
  {
   "cell_type": "code",
   "execution_count": null,
   "metadata": {
    "id": "LAttPQE-BwN1"
   },
   "outputs": [],
   "source": []
  },
  {
   "cell_type": "code",
   "execution_count": null,
   "metadata": {
    "id": "lZtFDaeqBwCH"
   },
   "outputs": [],
   "source": []
  },
  {
   "cell_type": "code",
   "execution_count": null,
   "metadata": {
    "id": "q4MiNCQEBv4K"
   },
   "outputs": [],
   "source": []
  },
  {
   "cell_type": "code",
   "execution_count": null,
   "metadata": {
    "id": "3woQqu45Bvyu"
   },
   "outputs": [],
   "source": []
  }
 ],
 "metadata": {
  "accelerator": "GPU",
  "colab": {
   "collapsed_sections": [],
   "name": "PYTESSEROCR-ocr.ipynb",
   "provenance": [],
   "toc_visible": true
  },
  "kernelspec": {
   "display_name": "Python 3",
   "language": "python",
   "name": "python3"
  },
  "language_info": {
   "codemirror_mode": {
    "name": "ipython",
    "version": 3
   },
   "file_extension": ".py",
   "mimetype": "text/x-python",
   "name": "python",
   "nbconvert_exporter": "python",
   "pygments_lexer": "ipython3",
   "version": "3.8.5"
  }
 },
 "nbformat": 4,
 "nbformat_minor": 1
}
